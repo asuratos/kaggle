{
 "cells": [
  {
   "cell_type": "code",
   "execution_count": 1,
   "id": "e3565c3e",
   "metadata": {
    "_cell_guid": "34182518-eef5-4f79-8566-e01ec8acf9bd",
    "_uuid": "fee66c36-6598-4423-8c05-22930f599004",
    "collapsed": false,
    "execution": {
     "iopub.execute_input": "2024-02-02T12:05:08.269620Z",
     "iopub.status.busy": "2024-02-02T12:05:08.268632Z",
     "iopub.status.idle": "2024-02-02T12:05:10.946093Z",
     "shell.execute_reply": "2024-02-02T12:05:10.944673Z"
    },
    "jupyter": {
     "outputs_hidden": false
    },
    "papermill": {
     "duration": 2.691848,
     "end_time": "2024-02-02T12:05:10.948964",
     "exception": false,
     "start_time": "2024-02-02T12:05:08.257116",
     "status": "completed"
    },
    "tags": []
   },
   "outputs": [
    {
     "name": "stdout",
     "output_type": "stream",
     "text": [
      "/kaggle/input/titanic/train.csv\n",
      "/kaggle/input/titanic/test.csv\n",
      "/kaggle/input/titanic/gender_submission.csv\n"
     ]
    }
   ],
   "source": [
    "# This Python 3 environment comes with many helpful analytics libraries installed\n",
    "# It is defined by the kaggle/python Docker image: https://github.com/kaggle/docker-python\n",
    "# For example, here's several helpful packages to load\n",
    "\n",
    "import numpy as np # linear algebra\n",
    "import pandas as pd # data processing, CSV file I/O (e.g. pd.read_csv)\n",
    "\n",
    "import seaborn as sns\n",
    "sns.set_theme()\n",
    "\n",
    "# Input data files are available in the read-only \"../input/\" directory\n",
    "# For example, running this (by clicking run or pressing Shift+Enter) will list all files under the input directory\n",
    "\n",
    "import os\n",
    "for dirname, _, filenames in os.walk('/kaggle/input'):\n",
    "    for filename in filenames:\n",
    "        print(os.path.join(dirname, filename))\n",
    "\n",
    "# You can write up to 20GB to the current directory (/kaggle/working/) that gets preserved as output when you create a version using \"Save & Run All\" \n",
    "# You can also write temporary files to /kaggle/temp/, but they won't be saved outside of the current session"
   ]
  },
  {
   "cell_type": "code",
   "execution_count": 2,
   "id": "3dccbc71",
   "metadata": {
    "_cell_guid": "c51fd995-fa16-4205-9f14-fb6e40b1ae6e",
    "_uuid": "70db20f6-c4a4-4e1c-b39d-b78cc1e7f638",
    "collapsed": false,
    "execution": {
     "iopub.execute_input": "2024-02-02T12:05:10.969451Z",
     "iopub.status.busy": "2024-02-02T12:05:10.968872Z",
     "iopub.status.idle": "2024-02-02T12:05:11.003400Z",
     "shell.execute_reply": "2024-02-02T12:05:11.002287Z"
    },
    "jupyter": {
     "outputs_hidden": false
    },
    "papermill": {
     "duration": 0.04787,
     "end_time": "2024-02-02T12:05:11.006242",
     "exception": false,
     "start_time": "2024-02-02T12:05:10.958372",
     "status": "completed"
    },
    "tags": []
   },
   "outputs": [],
   "source": [
    "train_data = pd.read_csv('/kaggle/input/titanic/train.csv')\n",
    "test_data = pd.read_csv('/kaggle/input/titanic/test.csv')"
   ]
  },
  {
   "cell_type": "markdown",
   "id": "f080a0f5",
   "metadata": {
    "_cell_guid": "e2db32e5-8233-4bfb-ba52-ef0aea145327",
    "_uuid": "2ad5cd02-82cb-431e-a173-fa491f6d7c33",
    "papermill": {
     "duration": 0.009783,
     "end_time": "2024-02-02T12:05:11.026276",
     "exception": false,
     "start_time": "2024-02-02T12:05:11.016493",
     "status": "completed"
    },
    "tags": []
   },
   "source": [
    "## Data Exploration\n",
    "\n",
    "Let's begin with a look at the training data set."
   ]
  },
  {
   "cell_type": "code",
   "execution_count": 3,
   "id": "f675e8ee",
   "metadata": {
    "_cell_guid": "93f45751-b55a-41d2-a5ec-b29052665303",
    "_uuid": "d87d7e4c-1ca8-4da7-a761-8b419e72065c",
    "collapsed": false,
    "execution": {
     "iopub.execute_input": "2024-02-02T12:05:11.046853Z",
     "iopub.status.busy": "2024-02-02T12:05:11.046440Z",
     "iopub.status.idle": "2024-02-02T12:05:11.091260Z",
     "shell.execute_reply": "2024-02-02T12:05:11.090007Z"
    },
    "jupyter": {
     "outputs_hidden": false
    },
    "papermill": {
     "duration": 0.057956,
     "end_time": "2024-02-02T12:05:11.093909",
     "exception": false,
     "start_time": "2024-02-02T12:05:11.035953",
     "status": "completed"
    },
    "tags": []
   },
   "outputs": [
    {
     "data": {
      "text/html": [
       "<div>\n",
       "<style scoped>\n",
       "    .dataframe tbody tr th:only-of-type {\n",
       "        vertical-align: middle;\n",
       "    }\n",
       "\n",
       "    .dataframe tbody tr th {\n",
       "        vertical-align: top;\n",
       "    }\n",
       "\n",
       "    .dataframe thead th {\n",
       "        text-align: right;\n",
       "    }\n",
       "</style>\n",
       "<table border=\"1\" class=\"dataframe\">\n",
       "  <thead>\n",
       "    <tr style=\"text-align: right;\">\n",
       "      <th></th>\n",
       "      <th>PassengerId</th>\n",
       "      <th>Survived</th>\n",
       "      <th>Pclass</th>\n",
       "      <th>Name</th>\n",
       "      <th>Sex</th>\n",
       "      <th>Age</th>\n",
       "      <th>SibSp</th>\n",
       "      <th>Parch</th>\n",
       "      <th>Ticket</th>\n",
       "      <th>Fare</th>\n",
       "      <th>Cabin</th>\n",
       "      <th>Embarked</th>\n",
       "    </tr>\n",
       "  </thead>\n",
       "  <tbody>\n",
       "    <tr>\n",
       "      <th>0</th>\n",
       "      <td>1</td>\n",
       "      <td>0</td>\n",
       "      <td>3</td>\n",
       "      <td>Braund, Mr. Owen Harris</td>\n",
       "      <td>male</td>\n",
       "      <td>22.0</td>\n",
       "      <td>1</td>\n",
       "      <td>0</td>\n",
       "      <td>A/5 21171</td>\n",
       "      <td>7.2500</td>\n",
       "      <td>NaN</td>\n",
       "      <td>S</td>\n",
       "    </tr>\n",
       "    <tr>\n",
       "      <th>1</th>\n",
       "      <td>2</td>\n",
       "      <td>1</td>\n",
       "      <td>1</td>\n",
       "      <td>Cumings, Mrs. John Bradley (Florence Briggs Th...</td>\n",
       "      <td>female</td>\n",
       "      <td>38.0</td>\n",
       "      <td>1</td>\n",
       "      <td>0</td>\n",
       "      <td>PC 17599</td>\n",
       "      <td>71.2833</td>\n",
       "      <td>C85</td>\n",
       "      <td>C</td>\n",
       "    </tr>\n",
       "    <tr>\n",
       "      <th>2</th>\n",
       "      <td>3</td>\n",
       "      <td>1</td>\n",
       "      <td>3</td>\n",
       "      <td>Heikkinen, Miss. Laina</td>\n",
       "      <td>female</td>\n",
       "      <td>26.0</td>\n",
       "      <td>0</td>\n",
       "      <td>0</td>\n",
       "      <td>STON/O2. 3101282</td>\n",
       "      <td>7.9250</td>\n",
       "      <td>NaN</td>\n",
       "      <td>S</td>\n",
       "    </tr>\n",
       "    <tr>\n",
       "      <th>3</th>\n",
       "      <td>4</td>\n",
       "      <td>1</td>\n",
       "      <td>1</td>\n",
       "      <td>Futrelle, Mrs. Jacques Heath (Lily May Peel)</td>\n",
       "      <td>female</td>\n",
       "      <td>35.0</td>\n",
       "      <td>1</td>\n",
       "      <td>0</td>\n",
       "      <td>113803</td>\n",
       "      <td>53.1000</td>\n",
       "      <td>C123</td>\n",
       "      <td>S</td>\n",
       "    </tr>\n",
       "    <tr>\n",
       "      <th>4</th>\n",
       "      <td>5</td>\n",
       "      <td>0</td>\n",
       "      <td>3</td>\n",
       "      <td>Allen, Mr. William Henry</td>\n",
       "      <td>male</td>\n",
       "      <td>35.0</td>\n",
       "      <td>0</td>\n",
       "      <td>0</td>\n",
       "      <td>373450</td>\n",
       "      <td>8.0500</td>\n",
       "      <td>NaN</td>\n",
       "      <td>S</td>\n",
       "    </tr>\n",
       "    <tr>\n",
       "      <th>...</th>\n",
       "      <td>...</td>\n",
       "      <td>...</td>\n",
       "      <td>...</td>\n",
       "      <td>...</td>\n",
       "      <td>...</td>\n",
       "      <td>...</td>\n",
       "      <td>...</td>\n",
       "      <td>...</td>\n",
       "      <td>...</td>\n",
       "      <td>...</td>\n",
       "      <td>...</td>\n",
       "      <td>...</td>\n",
       "    </tr>\n",
       "    <tr>\n",
       "      <th>886</th>\n",
       "      <td>887</td>\n",
       "      <td>0</td>\n",
       "      <td>2</td>\n",
       "      <td>Montvila, Rev. Juozas</td>\n",
       "      <td>male</td>\n",
       "      <td>27.0</td>\n",
       "      <td>0</td>\n",
       "      <td>0</td>\n",
       "      <td>211536</td>\n",
       "      <td>13.0000</td>\n",
       "      <td>NaN</td>\n",
       "      <td>S</td>\n",
       "    </tr>\n",
       "    <tr>\n",
       "      <th>887</th>\n",
       "      <td>888</td>\n",
       "      <td>1</td>\n",
       "      <td>1</td>\n",
       "      <td>Graham, Miss. Margaret Edith</td>\n",
       "      <td>female</td>\n",
       "      <td>19.0</td>\n",
       "      <td>0</td>\n",
       "      <td>0</td>\n",
       "      <td>112053</td>\n",
       "      <td>30.0000</td>\n",
       "      <td>B42</td>\n",
       "      <td>S</td>\n",
       "    </tr>\n",
       "    <tr>\n",
       "      <th>888</th>\n",
       "      <td>889</td>\n",
       "      <td>0</td>\n",
       "      <td>3</td>\n",
       "      <td>Johnston, Miss. Catherine Helen \"Carrie\"</td>\n",
       "      <td>female</td>\n",
       "      <td>NaN</td>\n",
       "      <td>1</td>\n",
       "      <td>2</td>\n",
       "      <td>W./C. 6607</td>\n",
       "      <td>23.4500</td>\n",
       "      <td>NaN</td>\n",
       "      <td>S</td>\n",
       "    </tr>\n",
       "    <tr>\n",
       "      <th>889</th>\n",
       "      <td>890</td>\n",
       "      <td>1</td>\n",
       "      <td>1</td>\n",
       "      <td>Behr, Mr. Karl Howell</td>\n",
       "      <td>male</td>\n",
       "      <td>26.0</td>\n",
       "      <td>0</td>\n",
       "      <td>0</td>\n",
       "      <td>111369</td>\n",
       "      <td>30.0000</td>\n",
       "      <td>C148</td>\n",
       "      <td>C</td>\n",
       "    </tr>\n",
       "    <tr>\n",
       "      <th>890</th>\n",
       "      <td>891</td>\n",
       "      <td>0</td>\n",
       "      <td>3</td>\n",
       "      <td>Dooley, Mr. Patrick</td>\n",
       "      <td>male</td>\n",
       "      <td>32.0</td>\n",
       "      <td>0</td>\n",
       "      <td>0</td>\n",
       "      <td>370376</td>\n",
       "      <td>7.7500</td>\n",
       "      <td>NaN</td>\n",
       "      <td>Q</td>\n",
       "    </tr>\n",
       "  </tbody>\n",
       "</table>\n",
       "<p>891 rows × 12 columns</p>\n",
       "</div>"
      ],
      "text/plain": [
       "     PassengerId  Survived  Pclass  \\\n",
       "0              1         0       3   \n",
       "1              2         1       1   \n",
       "2              3         1       3   \n",
       "3              4         1       1   \n",
       "4              5         0       3   \n",
       "..           ...       ...     ...   \n",
       "886          887         0       2   \n",
       "887          888         1       1   \n",
       "888          889         0       3   \n",
       "889          890         1       1   \n",
       "890          891         0       3   \n",
       "\n",
       "                                                  Name     Sex   Age  SibSp  \\\n",
       "0                              Braund, Mr. Owen Harris    male  22.0      1   \n",
       "1    Cumings, Mrs. John Bradley (Florence Briggs Th...  female  38.0      1   \n",
       "2                               Heikkinen, Miss. Laina  female  26.0      0   \n",
       "3         Futrelle, Mrs. Jacques Heath (Lily May Peel)  female  35.0      1   \n",
       "4                             Allen, Mr. William Henry    male  35.0      0   \n",
       "..                                                 ...     ...   ...    ...   \n",
       "886                              Montvila, Rev. Juozas    male  27.0      0   \n",
       "887                       Graham, Miss. Margaret Edith  female  19.0      0   \n",
       "888           Johnston, Miss. Catherine Helen \"Carrie\"  female   NaN      1   \n",
       "889                              Behr, Mr. Karl Howell    male  26.0      0   \n",
       "890                                Dooley, Mr. Patrick    male  32.0      0   \n",
       "\n",
       "     Parch            Ticket     Fare Cabin Embarked  \n",
       "0        0         A/5 21171   7.2500   NaN        S  \n",
       "1        0          PC 17599  71.2833   C85        C  \n",
       "2        0  STON/O2. 3101282   7.9250   NaN        S  \n",
       "3        0            113803  53.1000  C123        S  \n",
       "4        0            373450   8.0500   NaN        S  \n",
       "..     ...               ...      ...   ...      ...  \n",
       "886      0            211536  13.0000   NaN        S  \n",
       "887      0            112053  30.0000   B42        S  \n",
       "888      2        W./C. 6607  23.4500   NaN        S  \n",
       "889      0            111369  30.0000  C148        C  \n",
       "890      0            370376   7.7500   NaN        Q  \n",
       "\n",
       "[891 rows x 12 columns]"
      ]
     },
     "execution_count": 3,
     "metadata": {},
     "output_type": "execute_result"
    }
   ],
   "source": [
    "train_data"
   ]
  },
  {
   "cell_type": "markdown",
   "id": "e62a54b1",
   "metadata": {
    "_cell_guid": "1b4f051b-7bd4-4249-8483-ab6b7f566f66",
    "_uuid": "1688ffa8-df1d-4695-a131-5f7251fbe976",
    "papermill": {
     "duration": 0.009278,
     "end_time": "2024-02-02T12:05:11.112987",
     "exception": false,
     "start_time": "2024-02-02T12:05:11.103709",
     "status": "completed"
    },
    "tags": []
   },
   "source": [
    "We have a few columns which we can be reasonably sure don't contribute to survival rate:\n",
    "* Name\n",
    "* Ticket\n",
    "* Fare\n",
    "\n",
    "For the rest, let's look through the data columns:"
   ]
  },
  {
   "cell_type": "markdown",
   "id": "62224be9",
   "metadata": {
    "_cell_guid": "1442c21d-3c5a-42c5-9553-07fb66e2b1e9",
    "_uuid": "094059b1-98ee-4099-ba10-ce452b02f0c9",
    "papermill": {
     "duration": 0.010066,
     "end_time": "2024-02-02T12:05:11.133607",
     "exception": false,
     "start_time": "2024-02-02T12:05:11.123541",
     "status": "completed"
    },
    "tags": []
   },
   "source": [
    "### Pclass and Cabin\n",
    "\n",
    "These two columns give an idea of how rich or poor a passenger was, which also can influence where they could have been at the time of the disaster. Richer passengers were (probably) more likely to be found on the upper decks, giving them easier access to the life boats."
   ]
  },
  {
   "cell_type": "code",
   "execution_count": 4,
   "id": "98f7a8c5",
   "metadata": {
    "_cell_guid": "790c9d97-1aa1-4bf6-980c-b73617aa5296",
    "_uuid": "d435fb06-3568-4c27-a7e9-5c8f0eb66eca",
    "collapsed": false,
    "execution": {
     "iopub.execute_input": "2024-02-02T12:05:11.157271Z",
     "iopub.status.busy": "2024-02-02T12:05:11.156841Z",
     "iopub.status.idle": "2024-02-02T12:05:11.163848Z",
     "shell.execute_reply": "2024-02-02T12:05:11.162818Z"
    },
    "jupyter": {
     "outputs_hidden": false
    },
    "papermill": {
     "duration": 0.020929,
     "end_time": "2024-02-02T12:05:11.166081",
     "exception": false,
     "start_time": "2024-02-02T12:05:11.145152",
     "status": "completed"
    },
    "tags": []
   },
   "outputs": [
    {
     "data": {
      "text/plain": [
       "array([1, 2, 3])"
      ]
     },
     "execution_count": 4,
     "metadata": {},
     "output_type": "execute_result"
    }
   ],
   "source": [
    "# Checking out the unique values of Pclass\n",
    "np.unique(train_data[\"Pclass\"])"
   ]
  },
  {
   "cell_type": "code",
   "execution_count": 5,
   "id": "44b6dd4c",
   "metadata": {
    "_cell_guid": "91aaacbe-6e9a-49aa-ab33-ca5becb68e98",
    "_uuid": "e66e066c-56dc-4a56-9158-12976e36710f",
    "collapsed": false,
    "execution": {
     "iopub.execute_input": "2024-02-02T12:05:11.187647Z",
     "iopub.status.busy": "2024-02-02T12:05:11.187175Z",
     "iopub.status.idle": "2024-02-02T12:05:11.196972Z",
     "shell.execute_reply": "2024-02-02T12:05:11.195761Z"
    },
    "jupyter": {
     "outputs_hidden": false
    },
    "papermill": {
     "duration": 0.024157,
     "end_time": "2024-02-02T12:05:11.199952",
     "exception": false,
     "start_time": "2024-02-02T12:05:11.175795",
     "status": "completed"
    },
    "tags": []
   },
   "outputs": [
    {
     "data": {
      "text/plain": [
       "0"
      ]
     },
     "execution_count": 5,
     "metadata": {},
     "output_type": "execute_result"
    }
   ],
   "source": [
    "# Check for missing data in Pclass\n",
    "np.count_nonzero(np.isnan(train_data[\"Pclass\"]))"
   ]
  },
  {
   "cell_type": "code",
   "execution_count": 6,
   "id": "82456fca",
   "metadata": {
    "_cell_guid": "15cf1813-834b-4664-9ae9-b87bdbee406c",
    "_uuid": "eb2e8673-6f4e-4090-94a4-e0ff19685144",
    "collapsed": false,
    "execution": {
     "iopub.execute_input": "2024-02-02T12:05:11.222622Z",
     "iopub.status.busy": "2024-02-02T12:05:11.222141Z",
     "iopub.status.idle": "2024-02-02T12:05:11.932755Z",
     "shell.execute_reply": "2024-02-02T12:05:11.931664Z"
    },
    "jupyter": {
     "outputs_hidden": false
    },
    "papermill": {
     "duration": 0.72543,
     "end_time": "2024-02-02T12:05:11.935335",
     "exception": false,
     "start_time": "2024-02-02T12:05:11.209905",
     "status": "completed"
    },
    "tags": []
   },
   "outputs": [
    {
     "data": {
      "text/plain": [
       "<Axes: xlabel='Pclass', ylabel='Count'>"
      ]
     },
     "execution_count": 6,
     "metadata": {},
     "output_type": "execute_result"
    },
    {
     "data": {
      "image/png": "[encoded data removed]",
      "text/plain": [
       "<Figure size 640x480 with 1 Axes>"
      ]
     },
     "metadata": {},
     "output_type": "display_data"
    }
   ],
   "source": [
    "# Let's get a view of the survivors based on class\n",
    "sns.histplot(data = train_data, x = 'Pclass', hue = \"Survived\",  multiple = \"dodge\")"
   ]
  },
  {
   "cell_type": "markdown",
   "id": "6b6edc29",
   "metadata": {
    "_cell_guid": "dc2df9d6-ad55-476b-8399-c9b8f423941d",
    "_uuid": "810511bd-7daa-4a3c-b719-10c12d9a9e22",
    "papermill": {
     "duration": 0.009949,
     "end_time": "2024-02-02T12:05:11.955598",
     "exception": false,
     "start_time": "2024-02-02T12:05:11.945649",
     "status": "completed"
    },
    "tags": []
   },
   "source": [
    "As we can see above, despite 3rd class passengers being the majority of the population aboard the Titanic, more 1st class passengers managed to survive. Clearly a person's class had influenced their chances of survival."
   ]
  },
  {
   "cell_type": "code",
   "execution_count": 7,
   "id": "fc542d29",
   "metadata": {
    "_cell_guid": "9a8a5a71-ee72-425d-b1e9-b9b13063eeb2",
    "_uuid": "1d48cf90-edf9-465a-9694-aed7c16b75ad",
    "collapsed": false,
    "execution": {
     "iopub.execute_input": "2024-02-02T12:05:11.978705Z",
     "iopub.status.busy": "2024-02-02T12:05:11.978222Z",
     "iopub.status.idle": "2024-02-02T12:05:11.989114Z",
     "shell.execute_reply": "2024-02-02T12:05:11.987871Z"
    },
    "jupyter": {
     "outputs_hidden": false
    },
    "papermill": {
     "duration": 0.025904,
     "end_time": "2024-02-02T12:05:11.991777",
     "exception": false,
     "start_time": "2024-02-02T12:05:11.965873",
     "status": "completed"
    },
    "tags": []
   },
   "outputs": [
    {
     "data": {
      "text/plain": [
       "array(['A10', 'A14', 'A16', 'A19', 'A20', 'A23', 'A24', 'A26', 'A31',\n",
       "       'A32', 'A34', 'A36', 'A5', 'A6', 'A7', 'B101', 'B102', 'B18',\n",
       "       'B19', 'B20', 'B22', 'B28', 'B3', 'B30', 'B35', 'B37', 'B38',\n",
       "       'B39', 'B4', 'B41', 'B42', 'B49', 'B5', 'B50', 'B51 B53 B55',\n",
       "       'B57 B59 B63 B66', 'B58 B60', 'B69', 'B71', 'B73', 'B77', 'B78',\n",
       "       'B79', 'B80', 'B82 B84', 'B86', 'B94', 'B96 B98', 'C101', 'C103',\n",
       "       'C104', 'C106', 'C110', 'C111', 'C118', 'C123', 'C124', 'C125',\n",
       "       'C126', 'C128', 'C148', 'C2', 'C22 C26', 'C23 C25 C27', 'C30',\n",
       "       'C32', 'C45', 'C46', 'C47', 'C49', 'C50', 'C52', 'C54', 'C62 C64',\n",
       "       'C65', 'C68', 'C7', 'C70', 'C78', 'C82', 'C83', 'C85', 'C86',\n",
       "       'C87', 'C90', 'C91', 'C92', 'C93', 'C95', 'C99', 'D', 'D10 D12',\n",
       "       'D11', 'D15', 'D17', 'D19', 'D20', 'D21', 'D26', 'D28', 'D30',\n",
       "       'D33', 'D35', 'D36', 'D37', 'D45', 'D46', 'D47', 'D48', 'D49',\n",
       "       'D50', 'D56', 'D6', 'D7', 'D9', 'E10', 'E101', 'E12', 'E121',\n",
       "       'E17', 'E24', 'E25', 'E31', 'E33', 'E34', 'E36', 'E38', 'E40',\n",
       "       'E44', 'E46', 'E49', 'E50', 'E58', 'E63', 'E67', 'E68', 'E77',\n",
       "       'E8', 'F E69', 'F G63', 'F G73', 'F2', 'F33', 'F38', 'F4', 'G6',\n",
       "       'T'], dtype=object)"
      ]
     },
     "execution_count": 7,
     "metadata": {},
     "output_type": "execute_result"
    }
   ],
   "source": [
    "np.unique(train_data[\"Cabin\"][~train_data[\"Cabin\"].isnull()])"
   ]
  },
  {
   "cell_type": "code",
   "execution_count": 8,
   "id": "331ab22d",
   "metadata": {
    "_cell_guid": "307dcec8-6487-4d9f-bb40-9371a5f15507",
    "_uuid": "e0730d88-0b07-483d-8e0c-24885897c803",
    "collapsed": false,
    "execution": {
     "iopub.execute_input": "2024-02-02T12:05:12.014772Z",
     "iopub.status.busy": "2024-02-02T12:05:12.014248Z",
     "iopub.status.idle": "2024-02-02T12:05:12.555706Z",
     "shell.execute_reply": "2024-02-02T12:05:12.554295Z"
    },
    "jupyter": {
     "outputs_hidden": false
    },
    "papermill": {
     "duration": 0.556261,
     "end_time": "2024-02-02T12:05:12.558553",
     "exception": false,
     "start_time": "2024-02-02T12:05:12.002292",
     "status": "completed"
    },
    "tags": []
   },
   "outputs": [
    {
     "name": "stderr",
     "output_type": "stream",
     "text": [
      "<__array_function__ internals>:200: RuntimeWarning: Converting input from bool to <class 'numpy.uint8'> for compatibility.\n"
     ]
    },
    {
     "data": {
      "text/plain": [
       "<Axes: xlabel='Cabin', ylabel='Count'>"
      ]
     },
     "execution_count": 8,
     "metadata": {},
     "output_type": "execute_result"
    },
    {
     "data": {
      "image/png": "[encoded data removed]",
      "text/plain": [
       "<Figure size 640x480 with 1 Axes>"
      ]
     },
     "metadata": {},
     "output_type": "display_data"
    }
   ],
   "source": [
    "# Check to see survivors among those with cabins\n",
    "sns.histplot(x = ~train_data[\"Cabin\"].isnull(), hue = train_data[\"Survived\"], multiple = 'dodge')"
   ]
  },
  {
   "cell_type": "code",
   "execution_count": 9,
   "id": "3f3a93de",
   "metadata": {
    "_cell_guid": "e8ef8357-2ab7-45a7-84cc-25cdf3f92d8a",
    "_uuid": "a2b58645-705d-4c35-84fc-3a753a536693",
    "collapsed": false,
    "execution": {
     "iopub.execute_input": "2024-02-02T12:05:12.583304Z",
     "iopub.status.busy": "2024-02-02T12:05:12.582268Z",
     "iopub.status.idle": "2024-02-02T12:05:13.185665Z",
     "shell.execute_reply": "2024-02-02T12:05:13.184223Z"
    },
    "jupyter": {
     "outputs_hidden": false
    },
    "papermill": {
     "duration": 0.618967,
     "end_time": "2024-02-02T12:05:13.188736",
     "exception": false,
     "start_time": "2024-02-02T12:05:12.569769",
     "status": "completed"
    },
    "tags": []
   },
   "outputs": [
    {
     "data": {
      "text/plain": [
       "<Axes: xlabel='Pclass', ylabel='Count'>"
      ]
     },
     "execution_count": 9,
     "metadata": {},
     "output_type": "execute_result"
    },
    {
     "data": {
      "image/png": "[encoded data removed]",
      "text/plain": [
       "<Figure size 640x480 with 1 Axes>"
      ]
     },
     "metadata": {},
     "output_type": "display_data"
    }
   ],
   "source": [
    "# Check to see survivors among those with cabins\n",
    "sns.histplot(x = train_data[\"Pclass\"], hue = ~train_data[\"Cabin\"].isnull(), multiple = 'dodge')"
   ]
  },
  {
   "cell_type": "markdown",
   "id": "8fe650a0",
   "metadata": {
    "_cell_guid": "a3ccf48b-1d86-4305-8534-b784c2a7b7f7",
    "_uuid": "17a3110a-0777-4976-9784-be13f7f10855",
    "papermill": {
     "duration": 0.011478,
     "end_time": "2024-02-02T12:05:13.212958",
     "exception": false,
     "start_time": "2024-02-02T12:05:13.201480",
     "status": "completed"
    },
    "tags": []
   },
   "source": [
    "As we can see here, simply having a cabin seemed to have an effect on survival rate, and cabins were occupied overwhelmingly by those in the first class."
   ]
  },
  {
   "cell_type": "markdown",
   "id": "99772e49",
   "metadata": {
    "_cell_guid": "382e8258-519a-4f98-b6bd-7ba355fc0c6f",
    "_uuid": "91b9dfa4-7a43-4526-83f2-4cd3af06bff8",
    "papermill": {
     "duration": 0.01222,
     "end_time": "2024-02-02T12:05:13.237769",
     "exception": false,
     "start_time": "2024-02-02T12:05:13.225549",
     "status": "completed"
    },
    "tags": []
   },
   "source": [
    "### Age and Sex\n",
    "\n",
    "Let's see if priority was given to women and children:"
   ]
  },
  {
   "cell_type": "code",
   "execution_count": 10,
   "id": "8b78a4ac",
   "metadata": {
    "_cell_guid": "e646eebd-4182-47d0-b06c-2ac510f13e26",
    "_uuid": "db7fd99d-ac82-4333-b1e7-4177a81878e1",
    "collapsed": false,
    "execution": {
     "iopub.execute_input": "2024-02-02T12:05:13.264803Z",
     "iopub.status.busy": "2024-02-02T12:05:13.263865Z",
     "iopub.status.idle": "2024-02-02T12:05:13.622212Z",
     "shell.execute_reply": "2024-02-02T12:05:13.620890Z"
    },
    "jupyter": {
     "outputs_hidden": false
    },
    "papermill": {
     "duration": 0.375035,
     "end_time": "2024-02-02T12:05:13.625307",
     "exception": false,
     "start_time": "2024-02-02T12:05:13.250272",
     "status": "completed"
    },
    "tags": []
   },
   "outputs": [
    {
     "data": {
      "text/plain": [
       "<Axes: xlabel='Sex', ylabel='Count'>"
      ]
     },
     "execution_count": 10,
     "metadata": {},
     "output_type": "execute_result"
    },
    {
     "data": {
      "image/png": "[encoded data removed]",
      "text/plain": [
       "<Figure size 640x480 with 1 Axes>"
      ]
     },
     "metadata": {},
     "output_type": "display_data"
    }
   ],
   "source": [
    "sns.histplot(data = train_data, x = 'Sex', hue = 'Survived', multiple = \"dodge\")"
   ]
  },
  {
   "cell_type": "code",
   "execution_count": 11,
   "id": "38a5e9bc",
   "metadata": {
    "_cell_guid": "7ccea055-9016-42cc-bb19-a5574916e80b",
    "_uuid": "e01ae947-21c3-4034-83e8-8e3ff42f896e",
    "collapsed": false,
    "execution": {
     "iopub.execute_input": "2024-02-02T12:05:13.652346Z",
     "iopub.status.busy": "2024-02-02T12:05:13.651894Z",
     "iopub.status.idle": "2024-02-02T12:05:14.304569Z",
     "shell.execute_reply": "2024-02-02T12:05:14.303109Z"
    },
    "jupyter": {
     "outputs_hidden": false
    },
    "papermill": {
     "duration": 0.669385,
     "end_time": "2024-02-02T12:05:14.307281",
     "exception": false,
     "start_time": "2024-02-02T12:05:13.637896",
     "status": "completed"
    },
    "tags": []
   },
   "outputs": [
    {
     "data": {
      "text/plain": [
       "<Axes: xlabel='Age', ylabel='Count'>"
      ]
     },
     "execution_count": 11,
     "metadata": {},
     "output_type": "execute_result"
    },
    {
     "data": {
      "image/png": "[encoded data removed]",
      "text/plain": [
       "<Figure size 640x480 with 1 Axes>"
      ]
     },
     "metadata": {},
     "output_type": "display_data"
    }
   ],
   "source": [
    "sns.histplot(train_data, x = 'Age', hue = \"Survived\", multiple = 'dodge')"
   ]
  },
  {
   "cell_type": "markdown",
   "id": "d363315d",
   "metadata": {
    "papermill": {
     "duration": 0.01276,
     "end_time": "2024-02-02T12:05:14.333144",
     "exception": false,
     "start_time": "2024-02-02T12:05:14.320384",
     "status": "completed"
    },
    "tags": []
   },
   "source": [
    "It does appear that many children were saved in the tragedy.\n",
    "\n",
    "### Siblings and Family\n",
    "\n",
    "Now let's take a look at how the presence of family members affected survival rate."
   ]
  },
  {
   "cell_type": "code",
   "execution_count": 12,
   "id": "e08972d2",
   "metadata": {
    "_cell_guid": "a723259b-e331-4b59-89a5-c5298405044c",
    "_uuid": "760b763c-f607-47ae-b852-4a4eca9c5dac",
    "collapsed": false,
    "execution": {
     "iopub.execute_input": "2024-02-02T12:05:14.361377Z",
     "iopub.status.busy": "2024-02-02T12:05:14.360916Z",
     "iopub.status.idle": "2024-02-02T12:05:15.109200Z",
     "shell.execute_reply": "2024-02-02T12:05:15.108024Z"
    },
    "jupyter": {
     "outputs_hidden": false
    },
    "papermill": {
     "duration": 0.766274,
     "end_time": "2024-02-02T12:05:15.112633",
     "exception": false,
     "start_time": "2024-02-02T12:05:14.346359",
     "status": "completed"
    },
    "tags": []
   },
   "outputs": [
    {
     "data": {
      "text/plain": [
       "<Axes: xlabel='SibSp', ylabel='Count'>"
      ]
     },
     "execution_count": 12,
     "metadata": {},
     "output_type": "execute_result"
    },
    {
     "data": {
      "image/png": "[encoded data removed]",
      "text/plain": [
       "<Figure size 640x480 with 1 Axes>"
      ]
     },
     "metadata": {},
     "output_type": "display_data"
    }
   ],
   "source": [
    "sns.histplot(train_data, x = 'SibSp', hue = \"Survived\", multiple = \"dodge\")"
   ]
  },
  {
   "cell_type": "code",
   "execution_count": 13,
   "id": "cd1cf002",
   "metadata": {
    "execution": {
     "iopub.execute_input": "2024-02-02T12:05:15.142596Z",
     "iopub.status.busy": "2024-02-02T12:05:15.142102Z",
     "iopub.status.idle": "2024-02-02T12:05:15.696283Z",
     "shell.execute_reply": "2024-02-02T12:05:15.694265Z"
    },
    "papermill": {
     "duration": 0.573378,
     "end_time": "2024-02-02T12:05:15.700017",
     "exception": false,
     "start_time": "2024-02-02T12:05:15.126639",
     "status": "completed"
    },
    "tags": []
   },
   "outputs": [
    {
     "data": {
      "text/plain": [
       "<Axes: xlabel='Parch', ylabel='Count'>"
      ]
     },
     "execution_count": 13,
     "metadata": {},
     "output_type": "execute_result"
    },
    {
     "data": {
      "image/png": "[encoded data removed]",
      "text/plain": [
       "<Figure size 640x480 with 1 Axes>"
      ]
     },
     "metadata": {},
     "output_type": "display_data"
    }
   ],
   "source": [
    "sns.histplot(train_data, x = 'Parch', hue = \"Survived\", multiple = \"dodge\")"
   ]
  },
  {
   "cell_type": "markdown",
   "id": "7626e965",
   "metadata": {
    "papermill": {
     "duration": 0.0147,
     "end_time": "2024-02-02T12:05:15.729487",
     "exception": false,
     "start_time": "2024-02-02T12:05:15.714787",
     "status": "completed"
    },
    "tags": []
   },
   "source": [
    "### Embarkation point"
   ]
  },
  {
   "cell_type": "code",
   "execution_count": 14,
   "id": "5433e010",
   "metadata": {
    "execution": {
     "iopub.execute_input": "2024-02-02T12:05:15.761488Z",
     "iopub.status.busy": "2024-02-02T12:05:15.760149Z",
     "iopub.status.idle": "2024-02-02T12:05:16.126214Z",
     "shell.execute_reply": "2024-02-02T12:05:16.124795Z"
    },
    "papermill": {
     "duration": 0.384894,
     "end_time": "2024-02-02T12:05:16.129251",
     "exception": false,
     "start_time": "2024-02-02T12:05:15.744357",
     "status": "completed"
    },
    "tags": []
   },
   "outputs": [
    {
     "data": {
      "text/plain": [
       "<Axes: xlabel='Embarked', ylabel='Count'>"
      ]
     },
     "execution_count": 14,
     "metadata": {},
     "output_type": "execute_result"
    },
    {
     "data": {
      "image/png": "[encoded data removed]",
      "text/plain": [
       "<Figure size 640x480 with 1 Axes>"
      ]
     },
     "metadata": {},
     "output_type": "display_data"
    }
   ],
   "source": [
    "sns.histplot(train_data, x = 'Embarked', hue = \"Survived\", multiple = \"dodge\")"
   ]
  },
  {
   "cell_type": "markdown",
   "id": "193c7b6f",
   "metadata": {
    "papermill": {
     "duration": 0.015049,
     "end_time": "2024-02-02T12:05:16.159227",
     "exception": false,
     "start_time": "2024-02-02T12:05:16.144178",
     "status": "completed"
    },
    "tags": []
   },
   "source": [
    "It does appear that surprisingly, the embarkation point of the passenger affected their survival rate."
   ]
  },
  {
   "cell_type": "markdown",
   "id": "b4a167f7",
   "metadata": {
    "papermill": {
     "duration": 0.014452,
     "end_time": "2024-02-02T12:05:16.188283",
     "exception": false,
     "start_time": "2024-02-02T12:05:16.173831",
     "status": "completed"
    },
    "tags": []
   },
   "source": [
    "## Feature Preparation\n",
    "\n",
    "Now let's try to define a function that will process the columns into something a classifier can use."
   ]
  },
  {
   "cell_type": "code",
   "execution_count": 15,
   "id": "b6a5c89e",
   "metadata": {
    "execution": {
     "iopub.execute_input": "2024-02-02T12:05:16.220063Z",
     "iopub.status.busy": "2024-02-02T12:05:16.219264Z",
     "iopub.status.idle": "2024-02-02T12:05:16.243500Z",
     "shell.execute_reply": "2024-02-02T12:05:16.242569Z"
    },
    "papermill": {
     "duration": 0.042852,
     "end_time": "2024-02-02T12:05:16.245916",
     "exception": false,
     "start_time": "2024-02-02T12:05:16.203064",
     "status": "completed"
    },
    "tags": []
   },
   "outputs": [
    {
     "data": {
      "text/html": [
       "<div>\n",
       "<style scoped>\n",
       "    .dataframe tbody tr th:only-of-type {\n",
       "        vertical-align: middle;\n",
       "    }\n",
       "\n",
       "    .dataframe tbody tr th {\n",
       "        vertical-align: top;\n",
       "    }\n",
       "\n",
       "    .dataframe thead th {\n",
       "        text-align: right;\n",
       "    }\n",
       "</style>\n",
       "<table border=\"1\" class=\"dataframe\">\n",
       "  <thead>\n",
       "    <tr style=\"text-align: right;\">\n",
       "      <th></th>\n",
       "      <th>PassengerId</th>\n",
       "      <th>Survived</th>\n",
       "      <th>Pclass</th>\n",
       "      <th>Name</th>\n",
       "      <th>Sex</th>\n",
       "      <th>Age</th>\n",
       "      <th>SibSp</th>\n",
       "      <th>Parch</th>\n",
       "      <th>Ticket</th>\n",
       "      <th>Fare</th>\n",
       "      <th>Cabin</th>\n",
       "      <th>Embarked</th>\n",
       "    </tr>\n",
       "  </thead>\n",
       "  <tbody>\n",
       "    <tr>\n",
       "      <th>0</th>\n",
       "      <td>1</td>\n",
       "      <td>0</td>\n",
       "      <td>3</td>\n",
       "      <td>Braund, Mr. Owen Harris</td>\n",
       "      <td>male</td>\n",
       "      <td>22.0</td>\n",
       "      <td>1</td>\n",
       "      <td>0</td>\n",
       "      <td>A/5 21171</td>\n",
       "      <td>7.2500</td>\n",
       "      <td>NaN</td>\n",
       "      <td>S</td>\n",
       "    </tr>\n",
       "    <tr>\n",
       "      <th>1</th>\n",
       "      <td>2</td>\n",
       "      <td>1</td>\n",
       "      <td>1</td>\n",
       "      <td>Cumings, Mrs. John Bradley (Florence Briggs Th...</td>\n",
       "      <td>female</td>\n",
       "      <td>38.0</td>\n",
       "      <td>1</td>\n",
       "      <td>0</td>\n",
       "      <td>PC 17599</td>\n",
       "      <td>71.2833</td>\n",
       "      <td>C85</td>\n",
       "      <td>C</td>\n",
       "    </tr>\n",
       "    <tr>\n",
       "      <th>2</th>\n",
       "      <td>3</td>\n",
       "      <td>1</td>\n",
       "      <td>3</td>\n",
       "      <td>Heikkinen, Miss. Laina</td>\n",
       "      <td>female</td>\n",
       "      <td>26.0</td>\n",
       "      <td>0</td>\n",
       "      <td>0</td>\n",
       "      <td>STON/O2. 3101282</td>\n",
       "      <td>7.9250</td>\n",
       "      <td>NaN</td>\n",
       "      <td>S</td>\n",
       "    </tr>\n",
       "    <tr>\n",
       "      <th>3</th>\n",
       "      <td>4</td>\n",
       "      <td>1</td>\n",
       "      <td>1</td>\n",
       "      <td>Futrelle, Mrs. Jacques Heath (Lily May Peel)</td>\n",
       "      <td>female</td>\n",
       "      <td>35.0</td>\n",
       "      <td>1</td>\n",
       "      <td>0</td>\n",
       "      <td>113803</td>\n",
       "      <td>53.1000</td>\n",
       "      <td>C123</td>\n",
       "      <td>S</td>\n",
       "    </tr>\n",
       "    <tr>\n",
       "      <th>4</th>\n",
       "      <td>5</td>\n",
       "      <td>0</td>\n",
       "      <td>3</td>\n",
       "      <td>Allen, Mr. William Henry</td>\n",
       "      <td>male</td>\n",
       "      <td>35.0</td>\n",
       "      <td>0</td>\n",
       "      <td>0</td>\n",
       "      <td>373450</td>\n",
       "      <td>8.0500</td>\n",
       "      <td>NaN</td>\n",
       "      <td>S</td>\n",
       "    </tr>\n",
       "    <tr>\n",
       "      <th>...</th>\n",
       "      <td>...</td>\n",
       "      <td>...</td>\n",
       "      <td>...</td>\n",
       "      <td>...</td>\n",
       "      <td>...</td>\n",
       "      <td>...</td>\n",
       "      <td>...</td>\n",
       "      <td>...</td>\n",
       "      <td>...</td>\n",
       "      <td>...</td>\n",
       "      <td>...</td>\n",
       "      <td>...</td>\n",
       "    </tr>\n",
       "    <tr>\n",
       "      <th>886</th>\n",
       "      <td>887</td>\n",
       "      <td>0</td>\n",
       "      <td>2</td>\n",
       "      <td>Montvila, Rev. Juozas</td>\n",
       "      <td>male</td>\n",
       "      <td>27.0</td>\n",
       "      <td>0</td>\n",
       "      <td>0</td>\n",
       "      <td>211536</td>\n",
       "      <td>13.0000</td>\n",
       "      <td>NaN</td>\n",
       "      <td>S</td>\n",
       "    </tr>\n",
       "    <tr>\n",
       "      <th>887</th>\n",
       "      <td>888</td>\n",
       "      <td>1</td>\n",
       "      <td>1</td>\n",
       "      <td>Graham, Miss. Margaret Edith</td>\n",
       "      <td>female</td>\n",
       "      <td>19.0</td>\n",
       "      <td>0</td>\n",
       "      <td>0</td>\n",
       "      <td>112053</td>\n",
       "      <td>30.0000</td>\n",
       "      <td>B42</td>\n",
       "      <td>S</td>\n",
       "    </tr>\n",
       "    <tr>\n",
       "      <th>888</th>\n",
       "      <td>889</td>\n",
       "      <td>0</td>\n",
       "      <td>3</td>\n",
       "      <td>Johnston, Miss. Catherine Helen \"Carrie\"</td>\n",
       "      <td>female</td>\n",
       "      <td>NaN</td>\n",
       "      <td>1</td>\n",
       "      <td>2</td>\n",
       "      <td>W./C. 6607</td>\n",
       "      <td>23.4500</td>\n",
       "      <td>NaN</td>\n",
       "      <td>S</td>\n",
       "    </tr>\n",
       "    <tr>\n",
       "      <th>889</th>\n",
       "      <td>890</td>\n",
       "      <td>1</td>\n",
       "      <td>1</td>\n",
       "      <td>Behr, Mr. Karl Howell</td>\n",
       "      <td>male</td>\n",
       "      <td>26.0</td>\n",
       "      <td>0</td>\n",
       "      <td>0</td>\n",
       "      <td>111369</td>\n",
       "      <td>30.0000</td>\n",
       "      <td>C148</td>\n",
       "      <td>C</td>\n",
       "    </tr>\n",
       "    <tr>\n",
       "      <th>890</th>\n",
       "      <td>891</td>\n",
       "      <td>0</td>\n",
       "      <td>3</td>\n",
       "      <td>Dooley, Mr. Patrick</td>\n",
       "      <td>male</td>\n",
       "      <td>32.0</td>\n",
       "      <td>0</td>\n",
       "      <td>0</td>\n",
       "      <td>370376</td>\n",
       "      <td>7.7500</td>\n",
       "      <td>NaN</td>\n",
       "      <td>Q</td>\n",
       "    </tr>\n",
       "  </tbody>\n",
       "</table>\n",
       "<p>891 rows × 12 columns</p>\n",
       "</div>"
      ],
      "text/plain": [
       "     PassengerId  Survived  Pclass  \\\n",
       "0              1         0       3   \n",
       "1              2         1       1   \n",
       "2              3         1       3   \n",
       "3              4         1       1   \n",
       "4              5         0       3   \n",
       "..           ...       ...     ...   \n",
       "886          887         0       2   \n",
       "887          888         1       1   \n",
       "888          889         0       3   \n",
       "889          890         1       1   \n",
       "890          891         0       3   \n",
       "\n",
       "                                                  Name     Sex   Age  SibSp  \\\n",
       "0                              Braund, Mr. Owen Harris    male  22.0      1   \n",
       "1    Cumings, Mrs. John Bradley (Florence Briggs Th...  female  38.0      1   \n",
       "2                               Heikkinen, Miss. Laina  female  26.0      0   \n",
       "3         Futrelle, Mrs. Jacques Heath (Lily May Peel)  female  35.0      1   \n",
       "4                             Allen, Mr. William Henry    male  35.0      0   \n",
       "..                                                 ...     ...   ...    ...   \n",
       "886                              Montvila, Rev. Juozas    male  27.0      0   \n",
       "887                       Graham, Miss. Margaret Edith  female  19.0      0   \n",
       "888           Johnston, Miss. Catherine Helen \"Carrie\"  female   NaN      1   \n",
       "889                              Behr, Mr. Karl Howell    male  26.0      0   \n",
       "890                                Dooley, Mr. Patrick    male  32.0      0   \n",
       "\n",
       "     Parch            Ticket     Fare Cabin Embarked  \n",
       "0        0         A/5 21171   7.2500   NaN        S  \n",
       "1        0          PC 17599  71.2833   C85        C  \n",
       "2        0  STON/O2. 3101282   7.9250   NaN        S  \n",
       "3        0            113803  53.1000  C123        S  \n",
       "4        0            373450   8.0500   NaN        S  \n",
       "..     ...               ...      ...   ...      ...  \n",
       "886      0            211536  13.0000   NaN        S  \n",
       "887      0            112053  30.0000   B42        S  \n",
       "888      2        W./C. 6607  23.4500   NaN        S  \n",
       "889      0            111369  30.0000  C148        C  \n",
       "890      0            370376   7.7500   NaN        Q  \n",
       "\n",
       "[891 rows x 12 columns]"
      ]
     },
     "execution_count": 15,
     "metadata": {},
     "output_type": "execute_result"
    }
   ],
   "source": [
    "train_data"
   ]
  },
  {
   "cell_type": "code",
   "execution_count": 16,
   "id": "fe1dc0d8",
   "metadata": {
    "execution": {
     "iopub.execute_input": "2024-02-02T12:05:16.279089Z",
     "iopub.status.busy": "2024-02-02T12:05:16.277977Z",
     "iopub.status.idle": "2024-02-02T12:05:16.286890Z",
     "shell.execute_reply": "2024-02-02T12:05:16.285562Z"
    },
    "papermill": {
     "duration": 0.027993,
     "end_time": "2024-02-02T12:05:16.289272",
     "exception": false,
     "start_time": "2024-02-02T12:05:16.261279",
     "status": "completed"
    },
    "tags": []
   },
   "outputs": [],
   "source": [
    "def one_hot(df, column):\n",
    "    '''\n",
    "    Helper function for one-hot encoding.\n",
    "    A column is replaced with columns after one hot encoding.\n",
    "    Takes a pandas DataFrame and column name as input,\n",
    "    and returns the new DataFrame.\n",
    "    '''\n",
    "    encoded = pd.get_dummies(df[column])\n",
    "    df.drop(columns = [column])\n",
    "    df = df.join(encoded)\n",
    "    return df\n",
    "\n",
    "\n",
    "def prepare_features(df):\n",
    "    # first, drop the columns that we won't use\n",
    "    df.drop(columns = ['Name', 'Ticket', 'Fare'])\n",
    "    \n",
    "    # Pclass is a numerical column which should be handled as categorical, so let's one hot encode that\n",
    "    df = one_hot(df, 'Pclass')\n",
    "    \n",
    "    # Sex should also be handled through one hot encoding\n",
    "    df = one_hot(df, 'Sex')\n",
    "    \n",
    "\n",
    "    \n",
    "    \n",
    "    "
   ]
  }
 ],
 "metadata": {
  "kaggle": {
   "accelerator": "none",
   "dataSources": [
    {
     "databundleVersionId": 26502,
     "sourceId": 3136,
     "sourceType": "competition"
    }
   ],
   "dockerImageVersionId": 30635,
   "isGpuEnabled": false,
   "isInternetEnabled": false,
   "language": "python",
   "sourceType": "notebook"
  },
  "kernelspec": {
   "display_name": "Python 3",
   "language": "python",
   "name": "python3"
  },
  "language_info": {
   "codemirror_mode": {
    "name": "ipython",
    "version": 3
   },
   "file_extension": ".py",
   "mimetype": "text/x-python",
   "name": "python",
   "nbconvert_exporter": "python",
   "pygments_lexer": "ipython3",
   "version": "3.10.12"
  },
  "papermill": {
   "default_parameters": {},
   "duration": 13.388717,
   "end_time": "2024-02-02T12:05:17.027949",
   "environment_variables": {},
   "exception": null,
   "input_path": "__notebook__.ipynb",
   "output_path": "__notebook__.ipynb",
   "parameters": {},
   "start_time": "2024-02-02T12:05:03.639232",
   "version": "2.4.0"
  }
 },
 "nbformat": 4,
 "nbformat_minor": 5
}
