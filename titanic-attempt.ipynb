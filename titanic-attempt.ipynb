{
 "cells": [
  {
   "cell_type": "code",
   "execution_count": 1,
   "id": "4dfd48f8",
   "metadata": {
    "_cell_guid": "b1076dfc-b9ad-4769-8c92-a6c4dae69d19",
    "_uuid": "8f2839f25d086af736a60e9eeb907d3b93b6e0e5",
    "execution": {
     "iopub.execute_input": "2024-01-30T07:50:58.697932Z",
     "iopub.status.busy": "2024-01-30T07:50:58.697197Z",
     "iopub.status.idle": "2024-01-30T07:51:00.926372Z",
     "shell.execute_reply": "2024-01-30T07:51:00.924705Z"
    },
    "papermill": {
     "duration": 2.239469,
     "end_time": "2024-01-30T07:51:00.929780",
     "exception": false,
     "start_time": "2024-01-30T07:50:58.690311",
     "status": "completed"
    },
    "tags": []
   },
   "outputs": [
    {
     "name": "stdout",
     "output_type": "stream",
     "text": [
      "/kaggle/input/titanic/train.csv\n",
      "/kaggle/input/titanic/test.csv\n",
      "/kaggle/input/titanic/gender_submission.csv\n"
     ]
    }
   ],
   "source": [
    "# This Python 3 environment comes with many helpful analytics libraries installed\n",
    "# It is defined by the kaggle/python Docker image: https://github.com/kaggle/docker-python\n",
    "# For example, here's several helpful packages to load\n",
    "\n",
    "import numpy as np # linear algebra\n",
    "import pandas as pd # data processing, CSV file I/O (e.g. pd.read_csv)\n",
    "\n",
    "import seaborn as sns\n",
    "sns.set_theme()\n",
    "\n",
    "# Input data files are available in the read-only \"../input/\" directory\n",
    "# For example, running this (by clicking run or pressing Shift+Enter) will list all files under the input directory\n",
    "\n",
    "import os\n",
    "for dirname, _, filenames in os.walk('/kaggle/input'):\n",
    "    for filename in filenames:\n",
    "        print(os.path.join(dirname, filename))\n",
    "\n",
    "# You can write up to 20GB to the current directory (/kaggle/working/) that gets preserved as output when you create a version using \"Save & Run All\" \n",
    "# You can also write temporary files to /kaggle/temp/, but they won't be saved outside of the current session"
   ]
  },
  {
   "cell_type": "code",
   "execution_count": 2,
   "id": "4d95ae47",
   "metadata": {
    "execution": {
     "iopub.execute_input": "2024-01-30T07:51:00.943642Z",
     "iopub.status.busy": "2024-01-30T07:51:00.943082Z",
     "iopub.status.idle": "2024-01-30T07:51:00.976642Z",
     "shell.execute_reply": "2024-01-30T07:51:00.975496Z"
    },
    "papermill": {
     "duration": 0.043796,
     "end_time": "2024-01-30T07:51:00.980007",
     "exception": false,
     "start_time": "2024-01-30T07:51:00.936211",
     "status": "completed"
    },
    "tags": []
   },
   "outputs": [],
   "source": [
    "train_data = pd.read_csv('/kaggle/input/titanic/train.csv')\n",
    "test_data = pd.read_csv('/kaggle/input/titanic/test.csv')"
   ]
  },
  {
   "cell_type": "markdown",
   "id": "f83e984a",
   "metadata": {
    "papermill": {
     "duration": 0.00455,
     "end_time": "2024-01-30T07:51:00.989623",
     "exception": false,
     "start_time": "2024-01-30T07:51:00.985073",
     "status": "completed"
    },
    "tags": []
   },
   "source": [
    "## Data Exploration\n",
    "\n",
    "Let's begin with a look at the training data set."
   ]
  },
  {
   "cell_type": "code",
   "execution_count": 3,
   "id": "26b506ff",
   "metadata": {
    "execution": {
     "iopub.execute_input": "2024-01-30T07:51:01.001104Z",
     "iopub.status.busy": "2024-01-30T07:51:01.000298Z",
     "iopub.status.idle": "2024-01-30T07:51:01.039460Z",
     "shell.execute_reply": "2024-01-30T07:51:01.038359Z"
    },
    "papermill": {
     "duration": 0.047415,
     "end_time": "2024-01-30T07:51:01.041689",
     "exception": false,
     "start_time": "2024-01-30T07:51:00.994274",
     "status": "completed"
    },
    "tags": []
   },
   "outputs": [
    {
     "data": {
      "text/html": [
       "<div>\n",
       "<style scoped>\n",
       "    .dataframe tbody tr th:only-of-type {\n",
       "        vertical-align: middle;\n",
       "    }\n",
       "\n",
       "    .dataframe tbody tr th {\n",
       "        vertical-align: top;\n",
       "    }\n",
       "\n",
       "    .dataframe thead th {\n",
       "        text-align: right;\n",
       "    }\n",
       "</style>\n",
       "<table border=\"1\" class=\"dataframe\">\n",
       "  <thead>\n",
       "    <tr style=\"text-align: right;\">\n",
       "      <th></th>\n",
       "      <th>PassengerId</th>\n",
       "      <th>Survived</th>\n",
       "      <th>Pclass</th>\n",
       "      <th>Name</th>\n",
       "      <th>Sex</th>\n",
       "      <th>Age</th>\n",
       "      <th>SibSp</th>\n",
       "      <th>Parch</th>\n",
       "      <th>Ticket</th>\n",
       "      <th>Fare</th>\n",
       "      <th>Cabin</th>\n",
       "      <th>Embarked</th>\n",
       "    </tr>\n",
       "  </thead>\n",
       "  <tbody>\n",
       "    <tr>\n",
       "      <th>0</th>\n",
       "      <td>1</td>\n",
       "      <td>0</td>\n",
       "      <td>3</td>\n",
       "      <td>Braund, Mr. Owen Harris</td>\n",
       "      <td>male</td>\n",
       "      <td>22.0</td>\n",
       "      <td>1</td>\n",
       "      <td>0</td>\n",
       "      <td>A/5 21171</td>\n",
       "      <td>7.2500</td>\n",
       "      <td>NaN</td>\n",
       "      <td>S</td>\n",
       "    </tr>\n",
       "    <tr>\n",
       "      <th>1</th>\n",
       "      <td>2</td>\n",
       "      <td>1</td>\n",
       "      <td>1</td>\n",
       "      <td>Cumings, Mrs. John Bradley (Florence Briggs Th...</td>\n",
       "      <td>female</td>\n",
       "      <td>38.0</td>\n",
       "      <td>1</td>\n",
       "      <td>0</td>\n",
       "      <td>PC 17599</td>\n",
       "      <td>71.2833</td>\n",
       "      <td>C85</td>\n",
       "      <td>C</td>\n",
       "    </tr>\n",
       "    <tr>\n",
       "      <th>2</th>\n",
       "      <td>3</td>\n",
       "      <td>1</td>\n",
       "      <td>3</td>\n",
       "      <td>Heikkinen, Miss. Laina</td>\n",
       "      <td>female</td>\n",
       "      <td>26.0</td>\n",
       "      <td>0</td>\n",
       "      <td>0</td>\n",
       "      <td>STON/O2. 3101282</td>\n",
       "      <td>7.9250</td>\n",
       "      <td>NaN</td>\n",
       "      <td>S</td>\n",
       "    </tr>\n",
       "    <tr>\n",
       "      <th>3</th>\n",
       "      <td>4</td>\n",
       "      <td>1</td>\n",
       "      <td>1</td>\n",
       "      <td>Futrelle, Mrs. Jacques Heath (Lily May Peel)</td>\n",
       "      <td>female</td>\n",
       "      <td>35.0</td>\n",
       "      <td>1</td>\n",
       "      <td>0</td>\n",
       "      <td>113803</td>\n",
       "      <td>53.1000</td>\n",
       "      <td>C123</td>\n",
       "      <td>S</td>\n",
       "    </tr>\n",
       "    <tr>\n",
       "      <th>4</th>\n",
       "      <td>5</td>\n",
       "      <td>0</td>\n",
       "      <td>3</td>\n",
       "      <td>Allen, Mr. William Henry</td>\n",
       "      <td>male</td>\n",
       "      <td>35.0</td>\n",
       "      <td>0</td>\n",
       "      <td>0</td>\n",
       "      <td>373450</td>\n",
       "      <td>8.0500</td>\n",
       "      <td>NaN</td>\n",
       "      <td>S</td>\n",
       "    </tr>\n",
       "    <tr>\n",
       "      <th>...</th>\n",
       "      <td>...</td>\n",
       "      <td>...</td>\n",
       "      <td>...</td>\n",
       "      <td>...</td>\n",
       "      <td>...</td>\n",
       "      <td>...</td>\n",
       "      <td>...</td>\n",
       "      <td>...</td>\n",
       "      <td>...</td>\n",
       "      <td>...</td>\n",
       "      <td>...</td>\n",
       "      <td>...</td>\n",
       "    </tr>\n",
       "    <tr>\n",
       "      <th>886</th>\n",
       "      <td>887</td>\n",
       "      <td>0</td>\n",
       "      <td>2</td>\n",
       "      <td>Montvila, Rev. Juozas</td>\n",
       "      <td>male</td>\n",
       "      <td>27.0</td>\n",
       "      <td>0</td>\n",
       "      <td>0</td>\n",
       "      <td>211536</td>\n",
       "      <td>13.0000</td>\n",
       "      <td>NaN</td>\n",
       "      <td>S</td>\n",
       "    </tr>\n",
       "    <tr>\n",
       "      <th>887</th>\n",
       "      <td>888</td>\n",
       "      <td>1</td>\n",
       "      <td>1</td>\n",
       "      <td>Graham, Miss. Margaret Edith</td>\n",
       "      <td>female</td>\n",
       "      <td>19.0</td>\n",
       "      <td>0</td>\n",
       "      <td>0</td>\n",
       "      <td>112053</td>\n",
       "      <td>30.0000</td>\n",
       "      <td>B42</td>\n",
       "      <td>S</td>\n",
       "    </tr>\n",
       "    <tr>\n",
       "      <th>888</th>\n",
       "      <td>889</td>\n",
       "      <td>0</td>\n",
       "      <td>3</td>\n",
       "      <td>Johnston, Miss. Catherine Helen \"Carrie\"</td>\n",
       "      <td>female</td>\n",
       "      <td>NaN</td>\n",
       "      <td>1</td>\n",
       "      <td>2</td>\n",
       "      <td>W./C. 6607</td>\n",
       "      <td>23.4500</td>\n",
       "      <td>NaN</td>\n",
       "      <td>S</td>\n",
       "    </tr>\n",
       "    <tr>\n",
       "      <th>889</th>\n",
       "      <td>890</td>\n",
       "      <td>1</td>\n",
       "      <td>1</td>\n",
       "      <td>Behr, Mr. Karl Howell</td>\n",
       "      <td>male</td>\n",
       "      <td>26.0</td>\n",
       "      <td>0</td>\n",
       "      <td>0</td>\n",
       "      <td>111369</td>\n",
       "      <td>30.0000</td>\n",
       "      <td>C148</td>\n",
       "      <td>C</td>\n",
       "    </tr>\n",
       "    <tr>\n",
       "      <th>890</th>\n",
       "      <td>891</td>\n",
       "      <td>0</td>\n",
       "      <td>3</td>\n",
       "      <td>Dooley, Mr. Patrick</td>\n",
       "      <td>male</td>\n",
       "      <td>32.0</td>\n",
       "      <td>0</td>\n",
       "      <td>0</td>\n",
       "      <td>370376</td>\n",
       "      <td>7.7500</td>\n",
       "      <td>NaN</td>\n",
       "      <td>Q</td>\n",
       "    </tr>\n",
       "  </tbody>\n",
       "</table>\n",
       "<p>891 rows × 12 columns</p>\n",
       "</div>"
      ],
      "text/plain": [
       "     PassengerId  Survived  Pclass  \\\n",
       "0              1         0       3   \n",
       "1              2         1       1   \n",
       "2              3         1       3   \n",
       "3              4         1       1   \n",
       "4              5         0       3   \n",
       "..           ...       ...     ...   \n",
       "886          887         0       2   \n",
       "887          888         1       1   \n",
       "888          889         0       3   \n",
       "889          890         1       1   \n",
       "890          891         0       3   \n",
       "\n",
       "                                                  Name     Sex   Age  SibSp  \\\n",
       "0                              Braund, Mr. Owen Harris    male  22.0      1   \n",
       "1    Cumings, Mrs. John Bradley (Florence Briggs Th...  female  38.0      1   \n",
       "2                               Heikkinen, Miss. Laina  female  26.0      0   \n",
       "3         Futrelle, Mrs. Jacques Heath (Lily May Peel)  female  35.0      1   \n",
       "4                             Allen, Mr. William Henry    male  35.0      0   \n",
       "..                                                 ...     ...   ...    ...   \n",
       "886                              Montvila, Rev. Juozas    male  27.0      0   \n",
       "887                       Graham, Miss. Margaret Edith  female  19.0      0   \n",
       "888           Johnston, Miss. Catherine Helen \"Carrie\"  female   NaN      1   \n",
       "889                              Behr, Mr. Karl Howell    male  26.0      0   \n",
       "890                                Dooley, Mr. Patrick    male  32.0      0   \n",
       "\n",
       "     Parch            Ticket     Fare Cabin Embarked  \n",
       "0        0         A/5 21171   7.2500   NaN        S  \n",
       "1        0          PC 17599  71.2833   C85        C  \n",
       "2        0  STON/O2. 3101282   7.9250   NaN        S  \n",
       "3        0            113803  53.1000  C123        S  \n",
       "4        0            373450   8.0500   NaN        S  \n",
       "..     ...               ...      ...   ...      ...  \n",
       "886      0            211536  13.0000   NaN        S  \n",
       "887      0            112053  30.0000   B42        S  \n",
       "888      2        W./C. 6607  23.4500   NaN        S  \n",
       "889      0            111369  30.0000  C148        C  \n",
       "890      0            370376   7.7500   NaN        Q  \n",
       "\n",
       "[891 rows x 12 columns]"
      ]
     },
     "execution_count": 3,
     "metadata": {},
     "output_type": "execute_result"
    }
   ],
   "source": [
    "train_data"
   ]
  },
  {
   "cell_type": "markdown",
   "id": "c07ebb89",
   "metadata": {
    "papermill": {
     "duration": 0.004753,
     "end_time": "2024-01-30T07:51:01.051372",
     "exception": false,
     "start_time": "2024-01-30T07:51:01.046619",
     "status": "completed"
    },
    "tags": []
   },
   "source": [
    "We have a few columns which we can be reasonably sure don't contribute to survival rate:\n",
    "* Name\n",
    "* Ticket\n",
    "* Fare\n",
    "* Embarked\n",
    "\n",
    "For the rest, let's look through the data columns:"
   ]
  },
  {
   "cell_type": "markdown",
   "id": "231abe42",
   "metadata": {
    "papermill": {
     "duration": 0.004502,
     "end_time": "2024-01-30T07:51:01.060771",
     "exception": false,
     "start_time": "2024-01-30T07:51:01.056269",
     "status": "completed"
    },
    "tags": []
   },
   "source": [
    "## Pclass and Cabin\n",
    "\n",
    "These two columns give an idea of how rich or poor a passenger was, which also can influence where they could have been at the time of the disaster. Richer passengers were (probably) more likely to be found on the upper decks, giving them easier access to the life boats."
   ]
  },
  {
   "cell_type": "code",
   "execution_count": 4,
   "id": "9fdae39e",
   "metadata": {
    "execution": {
     "iopub.execute_input": "2024-01-30T07:51:01.073123Z",
     "iopub.status.busy": "2024-01-30T07:51:01.072343Z",
     "iopub.status.idle": "2024-01-30T07:51:01.079541Z",
     "shell.execute_reply": "2024-01-30T07:51:01.078457Z"
    },
    "papermill": {
     "duration": 0.015803,
     "end_time": "2024-01-30T07:51:01.081698",
     "exception": false,
     "start_time": "2024-01-30T07:51:01.065895",
     "status": "completed"
    },
    "tags": []
   },
   "outputs": [
    {
     "data": {
      "text/plain": [
       "array([1, 2, 3])"
      ]
     },
     "execution_count": 4,
     "metadata": {},
     "output_type": "execute_result"
    }
   ],
   "source": [
    "# Checking out the unique values of Pclass\n",
    "np.unique(train_data[\"Pclass\"])"
   ]
  },
  {
   "cell_type": "code",
   "execution_count": 5,
   "id": "121a1a25",
   "metadata": {
    "execution": {
     "iopub.execute_input": "2024-01-30T07:51:01.094080Z",
     "iopub.status.busy": "2024-01-30T07:51:01.093069Z",
     "iopub.status.idle": "2024-01-30T07:51:01.101313Z",
     "shell.execute_reply": "2024-01-30T07:51:01.100243Z"
    },
    "papermill": {
     "duration": 0.017402,
     "end_time": "2024-01-30T07:51:01.104113",
     "exception": false,
     "start_time": "2024-01-30T07:51:01.086711",
     "status": "completed"
    },
    "tags": []
   },
   "outputs": [
    {
     "data": {
      "text/plain": [
       "0"
      ]
     },
     "execution_count": 5,
     "metadata": {},
     "output_type": "execute_result"
    }
   ],
   "source": [
    "# Check for missing data in Pclass\n",
    "np.count_nonzero(np.isnan(train_data[\"Pclass\"]))"
   ]
  },
  {
   "cell_type": "code",
   "execution_count": 6,
   "id": "b646651f",
   "metadata": {
    "execution": {
     "iopub.execute_input": "2024-01-30T07:51:01.116548Z",
     "iopub.status.busy": "2024-01-30T07:51:01.116093Z",
     "iopub.status.idle": "2024-01-30T07:51:01.760996Z",
     "shell.execute_reply": "2024-01-30T07:51:01.759374Z"
    },
    "papermill": {
     "duration": 0.654353,
     "end_time": "2024-01-30T07:51:01.763763",
     "exception": false,
     "start_time": "2024-01-30T07:51:01.109410",
     "status": "completed"
    },
    "tags": []
   },
   "outputs": [
    {
     "data": {
      "text/plain": [
       "<Axes: xlabel='Pclass', ylabel='Count'>"
      ]
     },
     "execution_count": 6,
     "metadata": {},
     "output_type": "execute_result"
    },
    {
     "data": {
      "image/png": "[encoded data removed]",
      "text/plain": [
       "<Figure size 640x480 with 1 Axes>"
      ]
     },
     "metadata": {},
     "output_type": "display_data"
    }
   ],
   "source": [
    "# Let's get a view of the survivors based on class\n",
    "sns.histplot(data = train_data, x = 'Pclass', hue = \"Survived\",  multiple = \"dodge\")"
   ]
  },
  {
   "cell_type": "markdown",
   "id": "ab96714c",
   "metadata": {
    "papermill": {
     "duration": 0.005848,
     "end_time": "2024-01-30T07:51:01.775899",
     "exception": false,
     "start_time": "2024-01-30T07:51:01.770051",
     "status": "completed"
    },
    "tags": []
   },
   "source": [
    "As we can see above, despite 3rd class passengers being the majority of the population aboard the Titanic, more 1st class passengers managed to survive. Clearly a person's class had influenced their chances of survival."
   ]
  },
  {
   "cell_type": "code",
   "execution_count": 7,
   "id": "facbac7b",
   "metadata": {
    "execution": {
     "iopub.execute_input": "2024-01-30T07:51:01.790001Z",
     "iopub.status.busy": "2024-01-30T07:51:01.789565Z",
     "iopub.status.idle": "2024-01-30T07:51:01.798266Z",
     "shell.execute_reply": "2024-01-30T07:51:01.797185Z"
    },
    "papermill": {
     "duration": 0.018473,
     "end_time": "2024-01-30T07:51:01.800504",
     "exception": false,
     "start_time": "2024-01-30T07:51:01.782031",
     "status": "completed"
    },
    "tags": []
   },
   "outputs": [
    {
     "data": {
      "text/plain": [
       "array(['A10', 'A14', 'A16', 'A19', 'A20', 'A23', 'A24', 'A26', 'A31',\n",
       "       'A32', 'A34', 'A36', 'A5', 'A6', 'A7', 'B101', 'B102', 'B18',\n",
       "       'B19', 'B20', 'B22', 'B28', 'B3', 'B30', 'B35', 'B37', 'B38',\n",
       "       'B39', 'B4', 'B41', 'B42', 'B49', 'B5', 'B50', 'B51 B53 B55',\n",
       "       'B57 B59 B63 B66', 'B58 B60', 'B69', 'B71', 'B73', 'B77', 'B78',\n",
       "       'B79', 'B80', 'B82 B84', 'B86', 'B94', 'B96 B98', 'C101', 'C103',\n",
       "       'C104', 'C106', 'C110', 'C111', 'C118', 'C123', 'C124', 'C125',\n",
       "       'C126', 'C128', 'C148', 'C2', 'C22 C26', 'C23 C25 C27', 'C30',\n",
       "       'C32', 'C45', 'C46', 'C47', 'C49', 'C50', 'C52', 'C54', 'C62 C64',\n",
       "       'C65', 'C68', 'C7', 'C70', 'C78', 'C82', 'C83', 'C85', 'C86',\n",
       "       'C87', 'C90', 'C91', 'C92', 'C93', 'C95', 'C99', 'D', 'D10 D12',\n",
       "       'D11', 'D15', 'D17', 'D19', 'D20', 'D21', 'D26', 'D28', 'D30',\n",
       "       'D33', 'D35', 'D36', 'D37', 'D45', 'D46', 'D47', 'D48', 'D49',\n",
       "       'D50', 'D56', 'D6', 'D7', 'D9', 'E10', 'E101', 'E12', 'E121',\n",
       "       'E17', 'E24', 'E25', 'E31', 'E33', 'E34', 'E36', 'E38', 'E40',\n",
       "       'E44', 'E46', 'E49', 'E50', 'E58', 'E63', 'E67', 'E68', 'E77',\n",
       "       'E8', 'F E69', 'F G63', 'F G73', 'F2', 'F33', 'F38', 'F4', 'G6',\n",
       "       'T'], dtype=object)"
      ]
     },
     "execution_count": 7,
     "metadata": {},
     "output_type": "execute_result"
    }
   ],
   "source": [
    "np.unique(train_data[\"Cabin\"][~train_data[\"Cabin\"].isnull()])"
   ]
  },
  {
   "cell_type": "code",
   "execution_count": 8,
   "id": "ca26609b",
   "metadata": {
    "execution": {
     "iopub.execute_input": "2024-01-30T07:51:01.813995Z",
     "iopub.status.busy": "2024-01-30T07:51:01.813607Z",
     "iopub.status.idle": "2024-01-30T07:51:02.300462Z",
     "shell.execute_reply": "2024-01-30T07:51:02.299325Z"
    },
    "papermill": {
     "duration": 0.496819,
     "end_time": "2024-01-30T07:51:02.303126",
     "exception": false,
     "start_time": "2024-01-30T07:51:01.806307",
     "status": "completed"
    },
    "tags": []
   },
   "outputs": [
    {
     "name": "stderr",
     "output_type": "stream",
     "text": [
      "<__array_function__ internals>:200: RuntimeWarning: Converting input from bool to <class 'numpy.uint8'> for compatibility.\n"
     ]
    },
    {
     "data": {
      "text/plain": [
       "<Axes: xlabel='Cabin', ylabel='Count'>"
      ]
     },
     "execution_count": 8,
     "metadata": {},
     "output_type": "execute_result"
    },
    {
     "data": {
      "image/png": "[encoded data removed]",
      "text/plain": [
       "<Figure size 640x480 with 1 Axes>"
      ]
     },
     "metadata": {},
     "output_type": "display_data"
    }
   ],
   "source": [
    "# Check to see survivors among those with cabins\n",
    "sns.histplot(x = ~train_data[\"Cabin\"].isnull(), hue = train_data[\"Survived\"], multiple = 'dodge')"
   ]
  },
  {
   "cell_type": "code",
   "execution_count": 9,
   "id": "209af5e9",
   "metadata": {
    "execution": {
     "iopub.execute_input": "2024-01-30T07:51:02.318213Z",
     "iopub.status.busy": "2024-01-30T07:51:02.317823Z",
     "iopub.status.idle": "2024-01-30T07:51:02.809455Z",
     "shell.execute_reply": "2024-01-30T07:51:02.808408Z"
    },
    "papermill": {
     "duration": 0.50274,
     "end_time": "2024-01-30T07:51:02.812424",
     "exception": false,
     "start_time": "2024-01-30T07:51:02.309684",
     "status": "completed"
    },
    "tags": []
   },
   "outputs": [
    {
     "data": {
      "text/plain": [
       "<Axes: xlabel='Pclass', ylabel='Count'>"
      ]
     },
     "execution_count": 9,
     "metadata": {},
     "output_type": "execute_result"
    },
    {
     "data": {
      "image/png": "[encoded data removed]",
      "text/plain": [
       "<Figure size 640x480 with 1 Axes>"
      ]
     },
     "metadata": {},
     "output_type": "display_data"
    }
   ],
   "source": [
    "# Check to see survivors among those with cabins\n",
    "sns.histplot(x = train_data[\"Pclass\"], hue = ~train_data[\"Cabin\"].isnull(), multiple = 'dodge')"
   ]
  },
  {
   "cell_type": "markdown",
   "id": "58d38ff4",
   "metadata": {
    "papermill": {
     "duration": 0.00847,
     "end_time": "2024-01-30T07:51:02.831772",
     "exception": false,
     "start_time": "2024-01-30T07:51:02.823302",
     "status": "completed"
    },
    "tags": []
   },
   "source": [
    "As we can see here, simply having a cabin seemed to have an effect on survival rate, and cabins were occupied overwhelmingly by those in the first class."
   ]
  },
  {
   "cell_type": "markdown",
   "id": "2a2d50bc",
   "metadata": {
    "papermill": {
     "duration": 0.006784,
     "end_time": "2024-01-30T07:51:02.845492",
     "exception": false,
     "start_time": "2024-01-30T07:51:02.838708",
     "status": "completed"
    },
    "tags": []
   },
   "source": [
    "## Age and Sex\n",
    "\n",
    "Let's see if priority was given to women and children:"
   ]
  },
  {
   "cell_type": "code",
   "execution_count": 10,
   "id": "f21daeb2",
   "metadata": {
    "execution": {
     "iopub.execute_input": "2024-01-30T07:51:02.860791Z",
     "iopub.status.busy": "2024-01-30T07:51:02.860377Z",
     "iopub.status.idle": "2024-01-30T07:51:03.124606Z",
     "shell.execute_reply": "2024-01-30T07:51:03.123359Z"
    },
    "papermill": {
     "duration": 0.274738,
     "end_time": "2024-01-30T07:51:03.127028",
     "exception": false,
     "start_time": "2024-01-30T07:51:02.852290",
     "status": "completed"
    },
    "tags": []
   },
   "outputs": [
    {
     "data": {
      "text/plain": [
       "<Axes: xlabel='Sex', ylabel='Count'>"
      ]
     },
     "execution_count": 10,
     "metadata": {},
     "output_type": "execute_result"
    },
    {
     "data": {
      "image/png": "[encoded data removed]",
      "text/plain": [
       "<Figure size 640x480 with 1 Axes>"
      ]
     },
     "metadata": {},
     "output_type": "display_data"
    }
   ],
   "source": [
    "sns.histplot(data = train_data, x = 'Sex', hue = 'Survived', multiple = \"dodge\")"
   ]
  },
  {
   "cell_type": "code",
   "execution_count": 11,
   "id": "8493ee90",
   "metadata": {
    "execution": {
     "iopub.execute_input": "2024-01-30T07:51:03.143844Z",
     "iopub.status.busy": "2024-01-30T07:51:03.143450Z",
     "iopub.status.idle": "2024-01-30T07:51:03.638441Z",
     "shell.execute_reply": "2024-01-30T07:51:03.637233Z"
    },
    "papermill": {
     "duration": 0.506552,
     "end_time": "2024-01-30T07:51:03.641036",
     "exception": false,
     "start_time": "2024-01-30T07:51:03.134484",
     "status": "completed"
    },
    "tags": []
   },
   "outputs": [
    {
     "data": {
      "text/plain": [
       "<Axes: xlabel='Age', ylabel='Count'>"
      ]
     },
     "execution_count": 11,
     "metadata": {},
     "output_type": "execute_result"
    },
    {
     "data": {
      "image/png": "[encoded data removed]",
      "text/plain": [
       "<Figure size 640x480 with 1 Axes>"
      ]
     },
     "metadata": {},
     "output_type": "display_data"
    }
   ],
   "source": [
    "sns.histplot(train_data, x = 'Age', hue = \"Survived\", multiple = 'dodge')"
   ]
  },
  {
   "cell_type": "code",
   "execution_count": null,
   "id": "a1e92052",
   "metadata": {
    "papermill": {
     "duration": 0.007479,
     "end_time": "2024-01-30T07:51:03.656230",
     "exception": false,
     "start_time": "2024-01-30T07:51:03.648751",
     "status": "completed"
    },
    "tags": []
   },
   "outputs": [],
   "source": []
  }
 ],
 "metadata": {
  "kaggle": {
   "accelerator": "none",
   "dataSources": [
    {
     "databundleVersionId": 26502,
     "sourceId": 3136,
     "sourceType": "competition"
    }
   ],
   "dockerImageVersionId": 30635,
   "isGpuEnabled": false,
   "isInternetEnabled": false,
   "language": "python",
   "sourceType": "notebook"
  },
  "kernelspec": {
   "display_name": "Python 3",
   "language": "python",
   "name": "python3"
  },
  "language_info": {
   "codemirror_mode": {
    "name": "ipython",
    "version": 3
   },
   "file_extension": ".py",
   "mimetype": "text/x-python",
   "name": "python",
   "nbconvert_exporter": "python",
   "pygments_lexer": "ipython3",
   "version": "3.10.12"
  },
  "papermill": {
   "default_parameters": {},
   "duration": 9.585018,
   "end_time": "2024-01-30T07:51:04.284339",
   "environment_variables": {},
   "exception": null,
   "input_path": "__notebook__.ipynb",
   "output_path": "__notebook__.ipynb",
   "parameters": {},
   "start_time": "2024-01-30T07:50:54.699321",
   "version": "2.4.0"
  }
 },
 "nbformat": 4,
 "nbformat_minor": 5
}
